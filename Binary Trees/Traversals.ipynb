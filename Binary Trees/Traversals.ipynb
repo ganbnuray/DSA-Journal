{
 "cells": [
  {
   "cell_type": "markdown",
   "metadata": {},
   "source": [
    "## Binary Tree Traversal Methods\n",
    "A binary tree is a hierarchical data structure in which each node has at most two children, referred to as the left child and the right child.\n",
    "\n",
    "Here are some terms you might find useful when dealing with binary trees:\n",
    "- **Parent**: node with children\n",
    "\n",
    "- **Child**: node with a parent\n",
    "\n",
    "- **Edge**: connection between two nodes\n",
    "\n",
    "- **Node**: an element that contains data and may link to other nodes\n",
    "\n",
    "- **Root**: topmost node in the tree, node without any parents\n",
    "\n",
    "- **Leaf**: node without any children\n",
    "\n",
    "- **Levels**: number of edges along the path from the root node to a specific node\n",
    "\n",
    "- **Subtree**: each node can be considered the root node of its subtree"
   ]
  },
  {
   "cell_type": "markdown",
   "metadata": {},
   "source": [
    "Below are the characteristics of a binary tree:\n",
    "- Every node has at most 2 children\n",
    "\n",
    "- The tree has exactly 1 root node\n",
    "\n",
    "- There is exactly 1 path between root node and any other node. There are no cycles.\n"
   ]
  },
  {
   "cell_type": "markdown",
   "metadata": {},
   "source": [
    "**Note**: Empty trees can also be considered binary trees."
   ]
  },
  {
   "cell_type": "markdown",
   "metadata": {},
   "source": [
    "In order to build a binary tree, we describe each node with value, left child, and right child."
   ]
  },
  {
   "cell_type": "code",
   "execution_count": 1,
   "metadata": {},
   "outputs": [],
   "source": [
    "class Node:\n",
    "  def __init__(self, value, left = None, right = None):\n",
    "      self.val = value\n",
    "      self.left = left\n",
    "      self.right = left"
   ]
  },
  {
   "cell_type": "markdown",
   "metadata": {},
   "source": [
    "Essentially there are 2 ways of traversing through a binary tree:\n",
    "\n",
    "1. **Depth First Traversal**: It explores as far as possible along each branch before backtracking. This traversal method uses a <span style=\"color:red\">**stack**</span> (either explicitly or via recursion) to keep track of nodes to visit next\n",
    "\n",
    "2. **Breadth First Traversal**: It explores all nodes at the present depth level before moving on to nodes at the next depth level. This traversal method uses a <span style=\"color:red\">**queue**</span> to keep track of nodes to visit next.\n"
   ]
  },
  {
   "cell_type": "markdown",
   "metadata": {},
   "source": [
    "### Depth First Traversal Code Snippets"
   ]
  },
  {
   "cell_type": "code",
   "execution_count": 6,
   "metadata": {},
   "outputs": [],
   "source": [
    "# Pre-order: root, left, right\n",
    "def dft_iterative(root):\n",
    "    if not root:\n",
    "        return []\n",
    "    stack = [root]\n",
    "    nodes = []\n",
    "    while len(stack) > 0:\n",
    "        current = stack.pop()\n",
    "        nodes.append(current.val)\n",
    "\n",
    "        if current.right:\n",
    "            stack.append(current.right)\n",
    "            \n",
    "        if current.left:\n",
    "            stack.append(current.left)\n",
    "\n",
    "    return nodes"
   ]
  },
  {
   "cell_type": "code",
   "execution_count": 3,
   "metadata": {},
   "outputs": [],
   "source": [
    "# Pre-order: root, left, right\n",
    "def dft_recursive(root):\n",
    "    if not root:\n",
    "        return []\n",
    "    left_nodes = dft_recursive(root.left)\n",
    "    right_nodes = dft_recursive(root.right)\n",
    "    nodes = [root.val] + left_nodes + right_nodes\n",
    "    return nodes"
   ]
  },
  {
   "cell_type": "code",
   "execution_count": 4,
   "metadata": {},
   "outputs": [],
   "source": [
    "# In-order: left, root, right\n",
    "def dft_recursive(root):\n",
    "    if not root:\n",
    "        return []\n",
    "    left_nodes = dft_recursive(root.left)\n",
    "    right_nodes = dft_recursive(root.right)\n",
    "    nodes =  left_nodes + [root.val] + right_nodes\n",
    "    return nodes"
   ]
  },
  {
   "cell_type": "code",
   "execution_count": 5,
   "metadata": {},
   "outputs": [],
   "source": [
    "# Post-order: left, right, root\n",
    "def dft_recursive(root):\n",
    "    if not root:\n",
    "        return []\n",
    "    left_nodes = dft_recursive(root.left)\n",
    "    right_nodes = dft_recursive(root.right)\n",
    "    nodes =  left_nodes + right_nodes + [root.val]\n",
    "    return nodes"
   ]
  },
  {
   "cell_type": "markdown",
   "metadata": {},
   "source": [
    "### Breadth First Traversal Code Snippets"
   ]
  },
  {
   "cell_type": "code",
   "execution_count": 7,
   "metadata": {},
   "outputs": [],
   "source": [
    "from collections import deque\n",
    "def bft_iterative(root):\n",
    "    if not root:\n",
    "        return []\n",
    "    queue = deque([root])\n",
    "    nodes = []\n",
    "    while len(queue) > 0:\n",
    "        current = queue.popleft()\n",
    "        nodes.append(current.val)\n",
    "\n",
    "        if current.left:\n",
    "            queue.append(current.left)\n",
    "        if current.right:\n",
    "            queue.append(current.right)\n",
    "    \n",
    "    return nodes\n"
   ]
  }
 ],
 "metadata": {
  "kernelspec": {
   "display_name": "Python 3",
   "language": "python",
   "name": "python3"
  },
  "language_info": {
   "codemirror_mode": {
    "name": "ipython",
    "version": 3
   },
   "file_extension": ".py",
   "mimetype": "text/x-python",
   "name": "python",
   "nbconvert_exporter": "python",
   "pygments_lexer": "ipython3",
   "version": "3.12.3"
  }
 },
 "nbformat": 4,
 "nbformat_minor": 2
}
